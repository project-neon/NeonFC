{
 "cells": [
  {
   "cell_type": "code",
   "execution_count": 3,
   "metadata": {},
   "outputs": [],
   "source": [
    "from __future__ import print_function\n",
    "from ipywidgets import interact, interactive, fixed, interact_manual\n",
    "\n",
    "import numpy as np\n",
    "\n",
    "import matplotlib.pyplot as plt\n",
    "import json"
   ]
  },
  {
   "cell_type": "code",
   "execution_count": 8,
   "metadata": {},
   "outputs": [],
   "source": [
    "epochs_fields = [epoch for epoch in open('../ROBOT_0_blue|potential_field.log').read().split('||')]\n",
    "w = 0.750 * 2\n",
    "h = 0.650 * 2\n",
    "plt.rcParams[\"figure.figsize\"] = (85/2, 75/2)\n",
    "font = {'weight': 'bold','size' : 46}\n",
    "\n",
    "plt.rc('font', **font)\n",
    "plt.style.use('seaborn-dark-palette')"
   ]
  },
  {
   "cell_type": "code",
   "execution_count": 10,
   "metadata": {},
   "outputs": [
    {
     "data": {
      "application/vnd.jupyter.widget-view+json": {
       "model_id": "42160a0433f14500b243377f442fedbb",
       "version_major": 2,
       "version_minor": 0
      },
      "text/plain": [
       "interactive(children=(IntSlider(value=0, description='epoch_num', max=0), Output()), _dom_classes=('widget-int…"
      ]
     },
     "metadata": {},
     "output_type": "display_data"
    },
    {
     "data": {
      "text/plain": [
       "(1.5, 1.3)"
      ]
     },
     "execution_count": 10,
     "metadata": {},
     "output_type": "execute_result"
    }
   ],
   "source": [
    "def series(epoch_num):\n",
    "    epoch_num = min(epoch_num, max(0, len(epochs_fields)-1))\n",
    "    epoch = json.loads(epochs_fields[epoch_num])\n",
    "    x = np.array(epoch['x'])\n",
    "    y = np.array(epoch['y'])\n",
    "    u = np.array(epoch['u'])\n",
    "    v = np.array(epoch['v'])\n",
    "    \n",
    "    u_norm = [(np.array([a[0], a[1]])/np.linalg.norm([a[0], a[1]]))[0] for a in zip(u, v)]\n",
    "    v_norm = [(np.array([a[0], a[1]])/np.linalg.norm([a[0], a[1]]))[1] for a in zip(u, v)]\n",
    "    \n",
    "    m=np.sqrt(u**2+v**2)\n",
    "    \n",
    "    q = plt.quiver(x, y, u_norm, v_norm, m, units='xy', angles='xy', scale_units='xy', scale=50, cmap='inferno')\n",
    "    plt.scatter(epoch['robot_x'], epoch['robot_y'], c='blue', s=1000)\n",
    "    plt.scatter(epoch['ball_x'], epoch['ball_y'], c='orange', s=1000)\n",
    "    \n",
    "    plt.vlines(0, 0, h,linewidth=10.0)\n",
    "    plt.vlines(w, 0, h,linewidth=10.0)\n",
    "    plt.hlines(0, 0, w,linewidth=10.0)\n",
    "    plt.hlines(h, 0, w,linewidth=10.0)\n",
    "    plt.vlines(-0.1, h/2 - 0.2, h/2 + 0.2,linewidth=10.0)\n",
    "    plt.title(epoch['behaviour'])\n",
    "    \n",
    "    plt.colorbar(q, orientation=\"horizontal\")\n",
    "    return()\n",
    "\n",
    "interact(series, epoch_num= (0, len(epochs_fields)-2, 1) )\n",
    "w, h"
   ]
  },
  {
   "cell_type": "code",
   "execution_count": null,
   "metadata": {},
   "outputs": [],
   "source": []
  },
  {
   "cell_type": "code",
   "execution_count": null,
   "metadata": {},
   "outputs": [],
   "source": []
  }
 ],
 "metadata": {
  "kernelspec": {
   "display_name": "Python 3",
   "language": "python",
   "name": "python3"
  },
  "language_info": {
   "codemirror_mode": {
    "name": "ipython",
    "version": 3
   },
   "file_extension": ".py",
   "mimetype": "text/x-python",
   "name": "python",
   "nbconvert_exporter": "python",
   "pygments_lexer": "ipython3",
   "version": "3.7.5"
  }
 },
 "nbformat": 4,
 "nbformat_minor": 2
}
